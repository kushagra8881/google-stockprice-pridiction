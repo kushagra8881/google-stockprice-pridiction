{
  "cells": [
    {
      "cell_type": "markdown",
      "metadata": {
        "colab_type": "text",
        "id": "xpAuMVCwfWs8"
      },
      "source": [
        "# Recurrent Neural Network"
      ]
    },
    {
      "cell_type": "markdown",
      "metadata": {
        "colab_type": "text",
        "id": "nxJfRe4bfYVA"
      },
      "source": [
        "## Part 1 - Data Preprocessing"
      ]
    },
    {
      "cell_type": "markdown",
      "metadata": {
        "colab_type": "text",
        "id": "ir9zwETrfbrp"
      },
      "source": [
        "### Importing the libraries"
      ]
    },
    {
      "cell_type": "code",
      "execution_count": 1,
      "metadata": {
        "colab": {},
        "colab_type": "code",
        "id": "ZT1f24vHffuf"
      },
      "outputs": [],
      "source": [
        "import numpy as np\n",
        "import matplotlib.pyplot as plt\n",
        "import pandas as pd"
      ]
    },
    {
      "cell_type": "markdown",
      "metadata": {
        "colab_type": "text",
        "id": "nQ47JAxrgmaL"
      },
      "source": [
        "### Importing the training set"
      ]
    },
    {
      "cell_type": "code",
      "execution_count": 2,
      "metadata": {
        "colab": {},
        "colab_type": "code",
        "id": "1xiv3pJOgqY3"
      },
      "outputs": [],
      "source": [
        "dataset_train = pd.read_csv('Google_Stock_Price_Train.csv')\n",
        "training_set = dataset_train.iloc[:, 1:2].values"
      ]
    },
    {
      "cell_type": "markdown",
      "metadata": {
        "colab_type": "text",
        "id": "HT8_2UJegtG5"
      },
      "source": [
        "### Feature Scaling"
      ]
    },
    {
      "cell_type": "code",
      "execution_count": 3,
      "metadata": {
        "colab": {},
        "colab_type": "code",
        "id": "OTrF2kR7gx9x"
      },
      "outputs": [],
      "source": [
        "from sklearn.preprocessing import MinMaxScaler\n",
        "sc = MinMaxScaler(feature_range = (0, 1))\n",
        "training_set_scaled = sc.fit_transform(training_set)"
      ]
    },
    {
      "cell_type": "markdown",
      "metadata": {
        "colab_type": "text",
        "id": "JyYgYocqhNUg"
      },
      "source": [
        "### Creating a data structure with 60 timesteps and 1 output"
      ]
    },
    {
      "cell_type": "code",
      "execution_count": 4,
      "metadata": {
        "colab": {},
        "colab_type": "code",
        "id": "iofU21B0i6ST"
      },
      "outputs": [],
      "source": [
        "X_train = []\n",
        "y_train = []\n",
        "for i in range(60, 1258):\n",
        "    X_train.append(training_set_scaled[i-60:i, 0])\n",
        "    y_train.append(training_set_scaled[i, 0])\n",
        "X_train, y_train = np.array(X_train), np.array(y_train)"
      ]
    },
    {
      "cell_type": "markdown",
      "metadata": {
        "colab_type": "text",
        "id": "D8yaN7Zvi95l"
      },
      "source": [
        "### Reshaping"
      ]
    },
    {
      "cell_type": "code",
      "execution_count": 5,
      "metadata": {
        "colab": {},
        "colab_type": "code",
        "id": "FOXqJHmNjBkz"
      },
      "outputs": [],
      "source": [
        "X_train = np.reshape(X_train, (X_train.shape[0], X_train.shape[1], 1))"
      ]
    },
    {
      "cell_type": "markdown",
      "metadata": {
        "colab_type": "text",
        "id": "ZRRSOJeVjEWV"
      },
      "source": [
        "## Part 2 - Building and Training the RNN"
      ]
    },
    {
      "cell_type": "markdown",
      "metadata": {
        "colab_type": "text",
        "id": "k4XV88JMjHXG"
      },
      "source": [
        "### Importing the Keras libraries and packages"
      ]
    },
    {
      "cell_type": "code",
      "execution_count": 6,
      "metadata": {
        "colab": {
          "base_uri": "https://localhost:8080/",
          "height": 34
        },
        "colab_type": "code",
        "id": "9JRnqsxEjKsD",
        "outputId": "b3e23e78-18aa-4396-c923-c877b8de60e4"
      },
      "outputs": [
        {
          "name": "stderr",
          "output_type": "stream",
          "text": [
            "2023-12-12 18:05:07.219318: I tensorflow/core/util/port.cc:113] oneDNN custom operations are on. You may see slightly different numerical results due to floating-point round-off errors from different computation orders. To turn them off, set the environment variable `TF_ENABLE_ONEDNN_OPTS=0`.\n",
            "2023-12-12 18:05:07.394149: I tensorflow/core/platform/cpu_feature_guard.cc:182] This TensorFlow binary is optimized to use available CPU instructions in performance-critical operations.\n",
            "To enable the following instructions: AVX2 AVX512F AVX512_VNNI FMA, in other operations, rebuild TensorFlow with the appropriate compiler flags.\n"
          ]
        }
      ],
      "source": [
        "from keras.models import Sequential\n",
        "from keras.layers import Dense\n",
        "from keras.layers import LSTM\n",
        "from keras.layers import Dropout"
      ]
    },
    {
      "cell_type": "markdown",
      "metadata": {
        "colab_type": "text",
        "id": "FEIE-1s9jNzC"
      },
      "source": [
        "### Initialising the RNN"
      ]
    },
    {
      "cell_type": "code",
      "execution_count": 7,
      "metadata": {
        "colab": {},
        "colab_type": "code",
        "id": "1338dJ0UjRKH"
      },
      "outputs": [],
      "source": [
        "regressor = Sequential()"
      ]
    },
    {
      "cell_type": "markdown",
      "metadata": {
        "colab_type": "text",
        "id": "62eg1OPGjT8z"
      },
      "source": [
        "### Adding the first LSTM layer and some Dropout regularisation"
      ]
    },
    {
      "cell_type": "code",
      "execution_count": 8,
      "metadata": {
        "colab": {},
        "colab_type": "code",
        "id": "2hIinyXUjbVU"
      },
      "outputs": [],
      "source": [
        "regressor.add(LSTM(units = 50, return_sequences = True, input_shape = (X_train.shape[1], 1)))\n",
        "regressor.add(Dropout(0.2))"
      ]
    },
    {
      "cell_type": "markdown",
      "metadata": {
        "colab_type": "text",
        "id": "3XBIYLyOjlMx"
      },
      "source": [
        "### Adding a second LSTM layer and some Dropout regularisation"
      ]
    },
    {
      "cell_type": "code",
      "execution_count": 9,
      "metadata": {
        "colab": {},
        "colab_type": "code",
        "id": "UG7nrVaSjuZ2"
      },
      "outputs": [],
      "source": [
        "regressor.add(LSTM(units = 50, return_sequences = True))\n",
        "regressor.add(Dropout(0.2))"
      ]
    },
    {
      "cell_type": "markdown",
      "metadata": {
        "colab_type": "text",
        "id": "Ey3fHVnGj1cu"
      },
      "source": [
        "### Adding a third LSTM layer and some Dropout regularisation"
      ]
    },
    {
      "cell_type": "code",
      "execution_count": 10,
      "metadata": {
        "colab": {},
        "colab_type": "code",
        "id": "PuNi6PgFj7jO"
      },
      "outputs": [],
      "source": [
        "regressor.add(LSTM(units = 50, return_sequences = True))\n",
        "regressor.add(Dropout(0.2))"
      ]
    },
    {
      "cell_type": "markdown",
      "metadata": {
        "colab_type": "text",
        "id": "SYTrtfTmj933"
      },
      "source": [
        "### Adding a fourth LSTM layer and some Dropout regularisation"
      ]
    },
    {
      "cell_type": "code",
      "execution_count": 11,
      "metadata": {
        "colab": {},
        "colab_type": "code",
        "id": "Jp4Ty8fRkBYV"
      },
      "outputs": [],
      "source": [
        "regressor.add(LSTM(units = 50))\n",
        "regressor.add(Dropout(0.2))"
      ]
    },
    {
      "cell_type": "markdown",
      "metadata": {
        "colab_type": "text",
        "id": "9ABI6rOIkHhk"
      },
      "source": [
        "### Adding the output layer"
      ]
    },
    {
      "cell_type": "code",
      "execution_count": 12,
      "metadata": {
        "colab": {},
        "colab_type": "code",
        "id": "aM6R1z4WkME8"
      },
      "outputs": [],
      "source": [
        "regressor.add(Dense(units = 1))"
      ]
    },
    {
      "cell_type": "markdown",
      "metadata": {
        "colab_type": "text",
        "id": "zLx4K7uUkPSh"
      },
      "source": [
        "### Compiling the RNN"
      ]
    },
    {
      "cell_type": "code",
      "execution_count": 13,
      "metadata": {
        "colab": {},
        "colab_type": "code",
        "id": "XTrhVN-tkbko"
      },
      "outputs": [],
      "source": [
        "regressor.compile(optimizer = 'adam', loss = 'mean_squared_error')"
      ]
    },
    {
      "cell_type": "markdown",
      "metadata": {
        "colab_type": "text",
        "id": "-mPhwKGkkebi"
      },
      "source": [
        "### Fitting the RNN to the Training set"
      ]
    },
    {
      "cell_type": "code",
      "execution_count": 14,
      "metadata": {
        "colab": {
          "base_uri": "https://localhost:8080/",
          "height": 1000
        },
        "colab_type": "code",
        "id": "I06Nkrz5kkb-",
        "outputId": "dc9d947a-4d5c-4dbc-ed45-31bf44b98dfb"
      },
      "outputs": [
        {
          "name": "stdout",
          "output_type": "stream",
          "text": [
            "Epoch 1/100\n",
            "38/38 [==============================] - 6s 49ms/step - loss: 0.0359\n",
            "Epoch 2/100\n",
            "38/38 [==============================] - 3s 76ms/step - loss: 0.0060\n",
            "Epoch 3/100\n",
            "38/38 [==============================] - 3s 76ms/step - loss: 0.0055\n",
            "Epoch 4/100\n",
            "38/38 [==============================] - 3s 73ms/step - loss: 0.0055\n",
            "Epoch 5/100\n",
            "38/38 [==============================] - 3s 77ms/step - loss: 0.0045\n",
            "Epoch 6/100\n",
            "38/38 [==============================] - 3s 76ms/step - loss: 0.0042\n",
            "Epoch 7/100\n",
            "38/38 [==============================] - 3s 77ms/step - loss: 0.0047\n",
            "Epoch 8/100\n",
            "38/38 [==============================] - 3s 77ms/step - loss: 0.0042\n",
            "Epoch 9/100\n",
            "38/38 [==============================] - 3s 67ms/step - loss: 0.0050\n",
            "Epoch 10/100\n",
            "38/38 [==============================] - 3s 67ms/step - loss: 0.0046\n",
            "Epoch 11/100\n",
            "38/38 [==============================] - 3s 69ms/step - loss: 0.0036\n",
            "Epoch 12/100\n",
            "38/38 [==============================] - 3s 67ms/step - loss: 0.0042\n",
            "Epoch 13/100\n",
            "38/38 [==============================] - 2s 65ms/step - loss: 0.0038\n",
            "Epoch 14/100\n",
            "38/38 [==============================] - 2s 66ms/step - loss: 0.0039\n",
            "Epoch 15/100\n",
            "38/38 [==============================] - 3s 67ms/step - loss: 0.0036\n",
            "Epoch 16/100\n",
            "38/38 [==============================] - 2s 65ms/step - loss: 0.0035\n",
            "Epoch 17/100\n",
            "38/38 [==============================] - 2s 65ms/step - loss: 0.0036\n",
            "Epoch 18/100\n",
            "38/38 [==============================] - 3s 68ms/step - loss: 0.0039\n",
            "Epoch 19/100\n",
            "38/38 [==============================] - 3s 71ms/step - loss: 0.0032\n",
            "Epoch 20/100\n",
            "38/38 [==============================] - 3s 70ms/step - loss: 0.0037\n",
            "Epoch 21/100\n",
            "38/38 [==============================] - 3s 66ms/step - loss: 0.0034\n",
            "Epoch 22/100\n",
            "38/38 [==============================] - 3s 71ms/step - loss: 0.0032\n",
            "Epoch 23/100\n",
            "38/38 [==============================] - 3s 81ms/step - loss: 0.0035\n",
            "Epoch 24/100\n",
            "38/38 [==============================] - 3s 82ms/step - loss: 0.0034\n",
            "Epoch 25/100\n",
            "38/38 [==============================] - 3s 73ms/step - loss: 0.0032\n",
            "Epoch 26/100\n",
            "38/38 [==============================] - 3s 70ms/step - loss: 0.0030\n",
            "Epoch 27/100\n",
            "38/38 [==============================] - 3s 72ms/step - loss: 0.0038\n",
            "Epoch 28/100\n",
            "38/38 [==============================] - 3s 69ms/step - loss: 0.0035\n",
            "Epoch 29/100\n",
            "38/38 [==============================] - 3s 70ms/step - loss: 0.0029\n",
            "Epoch 30/100\n",
            "38/38 [==============================] - 3s 74ms/step - loss: 0.0030\n",
            "Epoch 31/100\n",
            "38/38 [==============================] - 3s 72ms/step - loss: 0.0031\n",
            "Epoch 32/100\n",
            "38/38 [==============================] - 3s 67ms/step - loss: 0.0028\n",
            "Epoch 33/100\n",
            "38/38 [==============================] - 3s 73ms/step - loss: 0.0029\n",
            "Epoch 34/100\n",
            "38/38 [==============================] - 3s 67ms/step - loss: 0.0032\n",
            "Epoch 35/100\n",
            "38/38 [==============================] - 3s 72ms/step - loss: 0.0030\n",
            "Epoch 36/100\n",
            "38/38 [==============================] - 3s 68ms/step - loss: 0.0027\n",
            "Epoch 37/100\n",
            "38/38 [==============================] - 3s 67ms/step - loss: 0.0024\n",
            "Epoch 38/100\n",
            "38/38 [==============================] - 3s 68ms/step - loss: 0.0026\n",
            "Epoch 39/100\n",
            "38/38 [==============================] - 3s 69ms/step - loss: 0.0027\n",
            "Epoch 40/100\n",
            "38/38 [==============================] - 3s 71ms/step - loss: 0.0024\n",
            "Epoch 41/100\n",
            "38/38 [==============================] - 3s 70ms/step - loss: 0.0025\n",
            "Epoch 42/100\n",
            "38/38 [==============================] - 3s 71ms/step - loss: 0.0025\n",
            "Epoch 43/100\n",
            "38/38 [==============================] - 3s 83ms/step - loss: 0.0026\n",
            "Epoch 44/100\n",
            "38/38 [==============================] - 3s 78ms/step - loss: 0.0029\n",
            "Epoch 45/100\n",
            "38/38 [==============================] - 3s 78ms/step - loss: 0.0028\n",
            "Epoch 46/100\n",
            "38/38 [==============================] - 3s 80ms/step - loss: 0.0025\n",
            "Epoch 47/100\n",
            "38/38 [==============================] - 3s 88ms/step - loss: 0.0022\n",
            "Epoch 48/100\n",
            "38/38 [==============================] - 3s 88ms/step - loss: 0.0022\n",
            "Epoch 49/100\n",
            "38/38 [==============================] - 3s 82ms/step - loss: 0.0023\n",
            "Epoch 50/100\n",
            "38/38 [==============================] - 3s 71ms/step - loss: 0.0022\n",
            "Epoch 51/100\n",
            "38/38 [==============================] - 3s 70ms/step - loss: 0.0023\n",
            "Epoch 52/100\n",
            "38/38 [==============================] - 3s 67ms/step - loss: 0.0022\n",
            "Epoch 53/100\n",
            "38/38 [==============================] - 3s 67ms/step - loss: 0.0022\n",
            "Epoch 54/100\n",
            "38/38 [==============================] - 3s 67ms/step - loss: 0.0021\n",
            "Epoch 55/100\n",
            "38/38 [==============================] - 3s 68ms/step - loss: 0.0022\n",
            "Epoch 56/100\n",
            "38/38 [==============================] - 3s 70ms/step - loss: 0.0022\n",
            "Epoch 57/100\n",
            "38/38 [==============================] - 4s 102ms/step - loss: 0.0020\n",
            "Epoch 58/100\n",
            "38/38 [==============================] - 3s 70ms/step - loss: 0.0022\n",
            "Epoch 59/100\n",
            "38/38 [==============================] - 3s 72ms/step - loss: 0.0021\n",
            "Epoch 60/100\n",
            "38/38 [==============================] - 3s 82ms/step - loss: 0.0023\n",
            "Epoch 61/100\n",
            "38/38 [==============================] - 3s 83ms/step - loss: 0.0022\n",
            "Epoch 62/100\n",
            "38/38 [==============================] - 3s 82ms/step - loss: 0.0020\n",
            "Epoch 63/100\n",
            "38/38 [==============================] - 3s 88ms/step - loss: 0.0020\n",
            "Epoch 64/100\n",
            "38/38 [==============================] - 3s 86ms/step - loss: 0.0018\n",
            "Epoch 65/100\n",
            "38/38 [==============================] - 3s 85ms/step - loss: 0.0018\n",
            "Epoch 66/100\n",
            "38/38 [==============================] - 3s 85ms/step - loss: 0.0019\n",
            "Epoch 67/100\n",
            "38/38 [==============================] - 3s 79ms/step - loss: 0.0019\n",
            "Epoch 68/100\n",
            "38/38 [==============================] - 3s 82ms/step - loss: 0.0018\n",
            "Epoch 69/100\n",
            "38/38 [==============================] - 3s 77ms/step - loss: 0.0017\n",
            "Epoch 70/100\n",
            "38/38 [==============================] - 3s 79ms/step - loss: 0.0018\n",
            "Epoch 71/100\n",
            "38/38 [==============================] - 3s 82ms/step - loss: 0.0019\n",
            "Epoch 72/100\n",
            "38/38 [==============================] - 3s 79ms/step - loss: 0.0018\n",
            "Epoch 73/100\n",
            "38/38 [==============================] - 3s 72ms/step - loss: 0.0017\n",
            "Epoch 74/100\n",
            "38/38 [==============================] - 3s 72ms/step - loss: 0.0018\n",
            "Epoch 75/100\n",
            "38/38 [==============================] - 3s 70ms/step - loss: 0.0018\n",
            "Epoch 76/100\n",
            "38/38 [==============================] - 3s 71ms/step - loss: 0.0016\n",
            "Epoch 77/100\n",
            "38/38 [==============================] - 3s 71ms/step - loss: 0.0017\n",
            "Epoch 78/100\n",
            "38/38 [==============================] - 3s 86ms/step - loss: 0.0017\n",
            "Epoch 79/100\n",
            "38/38 [==============================] - 3s 82ms/step - loss: 0.0016\n",
            "Epoch 80/100\n",
            "38/38 [==============================] - 3s 83ms/step - loss: 0.0017\n",
            "Epoch 81/100\n",
            "38/38 [==============================] - 3s 82ms/step - loss: 0.0016\n",
            "Epoch 82/100\n",
            "38/38 [==============================] - 3s 68ms/step - loss: 0.0015\n",
            "Epoch 83/100\n",
            "38/38 [==============================] - 3s 90ms/step - loss: 0.0015\n",
            "Epoch 84/100\n",
            "38/38 [==============================] - 4s 96ms/step - loss: 0.0015\n",
            "Epoch 85/100\n",
            "38/38 [==============================] - 3s 73ms/step - loss: 0.0016\n",
            "Epoch 86/100\n",
            "38/38 [==============================] - 3s 73ms/step - loss: 0.0018\n",
            "Epoch 87/100\n",
            "38/38 [==============================] - 3s 71ms/step - loss: 0.0017\n",
            "Epoch 88/100\n",
            "38/38 [==============================] - 3s 68ms/step - loss: 0.0018\n",
            "Epoch 89/100\n",
            "38/38 [==============================] - 3s 71ms/step - loss: 0.0018\n",
            "Epoch 90/100\n",
            "38/38 [==============================] - 3s 72ms/step - loss: 0.0014\n",
            "Epoch 91/100\n",
            "38/38 [==============================] - 2s 64ms/step - loss: 0.0014\n",
            "Epoch 92/100\n",
            "38/38 [==============================] - 2s 65ms/step - loss: 0.0016\n",
            "Epoch 93/100\n",
            "38/38 [==============================] - 2s 64ms/step - loss: 0.0013\n",
            "Epoch 94/100\n",
            "38/38 [==============================] - 3s 78ms/step - loss: 0.0015\n",
            "Epoch 95/100\n",
            "38/38 [==============================] - 3s 73ms/step - loss: 0.0015\n",
            "Epoch 96/100\n",
            "38/38 [==============================] - 3s 86ms/step - loss: 0.0015\n",
            "Epoch 97/100\n",
            "38/38 [==============================] - 3s 70ms/step - loss: 0.0014\n",
            "Epoch 98/100\n",
            "38/38 [==============================] - 3s 72ms/step - loss: 0.0013\n",
            "Epoch 99/100\n",
            "38/38 [==============================] - 3s 74ms/step - loss: 0.0013\n",
            "Epoch 100/100\n",
            "38/38 [==============================] - 4s 110ms/step - loss: 0.0013\n"
          ]
        },
        {
          "data": {
            "text/plain": [
              "<keras.src.callbacks.History at 0x7efe9847e750>"
            ]
          },
          "execution_count": 14,
          "metadata": {},
          "output_type": "execute_result"
        }
      ],
      "source": [
        "regressor.fit(X_train, y_train, epochs = 100, batch_size = 32)"
      ]
    },
    {
      "cell_type": "markdown",
      "metadata": {
        "colab_type": "text",
        "id": "4hRau_lIkrE8"
      },
      "source": [
        "## Part 3 - Making the predictions and visualising the results"
      ]
    },
    {
      "cell_type": "markdown",
      "metadata": {
        "colab_type": "text",
        "id": "SgJO6qEDksxD"
      },
      "source": [
        "### Getting the real stock price of 2017"
      ]
    },
    {
      "cell_type": "code",
      "execution_count": 15,
      "metadata": {
        "colab": {},
        "colab_type": "code",
        "id": "FmBT2zqukxTz"
      },
      "outputs": [],
      "source": [
        "dataset_test = pd.read_csv('Google_Stock_Price_Test.csv')\n",
        "real_stock_price = dataset_test.iloc[:, 1:2].values"
      ]
    },
    {
      "cell_type": "markdown",
      "metadata": {
        "colab_type": "text",
        "id": "GrvrLblxkz42"
      },
      "source": [
        "### Getting the predicted stock price of 2017"
      ]
    },
    {
      "cell_type": "code",
      "execution_count": 16,
      "metadata": {
        "colab": {},
        "colab_type": "code",
        "id": "emikTvUpk3Ck"
      },
      "outputs": [
        {
          "name": "stdout",
          "output_type": "stream",
          "text": [
            "1/1 [==============================] - 1s 1s/step\n"
          ]
        }
      ],
      "source": [
        "dataset_total = pd.concat((dataset_train['Open'], dataset_test['Open']), axis = 0)\n",
        "inputs = dataset_total[len(dataset_total) - len(dataset_test) - 60:].values\n",
        "inputs = inputs.reshape(-1,1)\n",
        "inputs = sc.transform(inputs)\n",
        "X_test = []\n",
        "for i in range(60, 80):\n",
        "    X_test.append(inputs[i-60:i, 0])\n",
        "X_test = np.array(X_test)\n",
        "X_test = np.reshape(X_test, (X_test.shape[0], X_test.shape[1], 1))\n",
        "predicted_stock_price = regressor.predict(X_test)\n",
        "predicted_stock_price = sc.inverse_transform(predicted_stock_price)"
      ]
    },
    {
      "cell_type": "markdown",
      "metadata": {
        "colab_type": "text",
        "id": "iFTNs3YHk6FQ"
      },
      "source": [
        "### Visualising the results"
      ]
    },
    {
      "cell_type": "code",
      "execution_count": 17,
      "metadata": {
        "colab": {
          "base_uri": "https://localhost:8080/",
          "height": 295
        },
        "colab_type": "code",
        "id": "8OUI8U49k9tH",
        "outputId": "db0ed15e-071b-4bae-955e-0eda3df95238"
      },
      "outputs": [
        {
          "data": {
            "image/png": "[encoded data removed]",
            "text/plain": [
              "<Figure size 640x480 with 1 Axes>"
            ]
          },
          "metadata": {},
          "output_type": "display_data"
        }
      ],
      "source": [
        "plt.plot(real_stock_price, color = 'red', label = 'Real Google Stock Price')\n",
        "plt.plot(predicted_stock_price, color = 'blue', label = 'Predicted Google Stock Price')\n",
        "plt.title('Google Stock Price Prediction')\n",
        "plt.xlabel('Time')\n",
        "plt.ylabel('Google Stock Price')\n",
        "plt.legend()\n",
        "plt.show()"
      ]
    }
  ],
  "metadata": {
    "colab": {
      "collapsed_sections": [],
      "name": "recurrent_neural_network.ipynb",
      "provenance": []
    },
    "kernelspec": {
      "display_name": "Python 3",
      "name": "python3"
    },
    "language_info": {
      "codemirror_mode": {
        "name": "ipython",
        "version": 3
      },
      "file_extension": ".py",
      "mimetype": "text/x-python",
      "name": "python",
      "nbconvert_exporter": "python",
      "pygments_lexer": "ipython3",
      "version": "3.11.6"
    }
  },
  "nbformat": 4,
  "nbformat_minor": 0
}
